{
 "cells": [
  {
   "cell_type": "markdown",
   "metadata": {},
   "source": [
    "<img src=\"http://imgur.com/1ZcRyrc.png\" style=\"float: left; margin: 20px; height: 55px\">\n",
    "\n",
    "# Project 1: Python Coding Exercises\n",
    "\n",
    "_Authors: Joseph Nelson (DC) _\n",
    "\n",
    "---"
   ]
  },
  {
   "cell_type": "markdown",
   "metadata": {},
   "source": [
    "The following code challenges are drawn from common exercises used in technical interviews.\n",
    "\n",
    "Please note that there may be several ways to approach each challenge. If you get stuck, try mapping out your approach in pseudocode first. Finally, while solutions to problems like these may be found online, remember that if you copy/paste code that you can't explain, you'll be missing out on the point of the project. The only way to truly learn a new skill is through practice, trial, and error - we can only help you improve by understanding where you are having trouble."
   ]
  },
  {
   "cell_type": "markdown",
   "metadata": {},
   "source": [
    "### Challenge 1: Largest Palindrome\n",
    "\n",
    "A palindromic number reads the same both ways. For example, 1234321 is a palindrome. The largest palindrome made from the product of two two-digit numbers is 9009 = 91 × 99. Find the largest palindrome made from the product of two three-digit numbers. Afterward, write a brief explanation walking through your code's logic in markdown."
   ]
  },
  {
   "cell_type": "code",
   "execution_count": 36,
   "metadata": {},
   "outputs": [
    {
     "name": "stdout",
     "output_type": "stream",
     "text": [
      "906609\n"
     ]
    }
   ],
   "source": [
    "#setting a number for the calculation to compare its iterations to\n",
    "palindrome = 0\n",
    "\n",
    "#iterating through a list of numbers from 999 to 100, going down by 1 each time, repeat for next line but starting from one less than a\n",
    "for a in range(999,100,-1):\n",
    "    for b in range(a,100,-1):\n",
    "        product = a*b\n",
    "        #converting product to a string for splicing to check if the string is an exact match to it's reverse\n",
    "        strProduct = str(product)\n",
    "        if strProduct == strProduct[::-1]:\n",
    "            #checking if the current product value is bigger than the current palindrome value\n",
    "            if product > palindrome:\n",
    "                #if it is bigger, palindrome is replaced by the value of product\n",
    "                palindrome = product\n",
    "\n",
    "print(palindrome)"
   ]
  },
  {
   "cell_type": "markdown",
   "metadata": {},
   "source": [
    "\n",
    "I started by creating a variable to store the largest palindrome found whilst running through the for loop.\n",
    "\n",
    "I then create the for loop to run through all 3 digit numbers in range, starting from 999 and going down by 1 until we hit 100 (a), and then created another for loop within that, similar to the first but starting from one less than wherever the first for loop is in the range (b), so that we run through each number without overlap.\n",
    "\n",
    "In that for loop, I calculated the product of values for a and b and stored it in a variable called product. \n",
    "\n",
    "Then I converted product into a string to manipulate it and check if the original string exactly matches its reverse. \n",
    "If it does, we then check if this current number is larger than the number we have stored in palindrome, if that condition is true, the value for palindrome is reassigned. If only one or neither of these conditions are true, the loop carries on to the next number, looping though and reassigning the value of palindrome until we reach the end of the range and no other products are larger. \n",
    "\n",
    "Lastly, I printed the value for palindrome to sense check."
   ]
  },
  {
   "cell_type": "markdown",
   "metadata": {},
   "source": [
    "\n",
    "### Challenge 2: Summation of Primes\n",
    "The sum of the primes below 10 is 2 + 3 + 5 + 7 = 17. Find the sum of all the primes below 2,000. Afterward, write a brief explanation walking through your code's logic in markdown."
   ]
  },
  {
   "cell_type": "code",
   "execution_count": 3,
   "metadata": {},
   "outputs": [
    {
     "name": "stdout",
     "output_type": "stream",
     "text": [
      "1000001\n"
     ]
    }
   ],
   "source": [
    "#Create a list to store prime numbers as we find them\n",
    "primes = [2]\n",
    "\n",
    "#for loops to iterate through range of numbers below 2000 and then another to loop through the same range above 2 to divide the numbers by eachother. If the result matches 0, the loop breaks, but if it does not match 0, it adds the number to the 'primes' list \n",
    "for a in range(1, 2001):\n",
    "    for b in range(2, a):\n",
    "        if a % b == 0:\n",
    "            break\n",
    "        else:\n",
    "            primes.append(a)\n",
    "        break\n",
    "        \n",
    "#calculating the sum of the list of primes        \n",
    "sumPrimes = sum(primes)\n",
    "print(sumPrimes)"
   ]
  },
  {
   "cell_type": "markdown",
   "metadata": {},
   "source": [
    "I first created a list to store the prime numbers I found in.\n",
    "\n",
    "I then created a for loop to iterate through a range between 1 and 2001 (which would end at 2000) and then another for loop within that to iterate through the same range upwards of 2. This loop checks if both a & b are divisible by eachother (prime numbers are only divisible by themselves), if we are able to divide the number by itself and get a remainder of 0, the number is not prime, thereofre the loop breaks and carries on to the next number, if the number does not get a remainder of 0, it is added to the primes list, and the loop breaks and carries on.\n",
    "\n",
    "I then used the sum() function to add up all the values stored in the 'primes' list and printed the answer.\n"
   ]
  },
  {
   "cell_type": "markdown",
   "metadata": {},
   "source": [
    "### Challenge 3: Multiples of 3 and 5\n",
    "If we list all of the natural numbers below 10 that are multiples of 3 or 5, we get 3, 5, 6, and 9. The sum of these multiples is 23. Find the sum of all the multiples of 3 and 5 below 1,000. Afterward, write a brief explanation walking through your code's logic in markdown."
   ]
  },
  {
   "cell_type": "code",
   "execution_count": 24,
   "metadata": {},
   "outputs": [
    {
     "name": "stdout",
     "output_type": "stream",
     "text": [
      "33165\n"
     ]
    }
   ],
   "source": [
    "#crreate a list to store all numbers below 1000 that are multiples of 3 AND 5\n",
    "multiples = []\n",
    "\n",
    "#For loop to run through all nnumbers up to 100, check if they are divisible by 3 AND 5 (providing no remainder) and adding them to the list if they meet the condition\n",
    "for a in range(1001):\n",
    "    if a % 3 == 0 and a % 5 == 0:\n",
    "        multiples.append(a)\n",
    "\n",
    "#calculating the sum of all values in the list\n",
    "sumMultiples = sum(multiples)\n",
    "print(sumMultiples)"
   ]
  },
  {
   "cell_type": "markdown",
   "metadata": {},
   "source": [
    "I started by creating a list to store any values I find that are multiples of both 3 and 5.\n",
    "\n",
    "I then created a for loop to iterate through every number up to 1000, checking whether the number is divisible by 3 AND divisible by % with no remained. if both of these conditions were met, the number is added to the list, otherwise the next number is assessed.\n",
    "\n",
    "Lastly, I used the sum() function to add up all the values in the list and print the answer."
   ]
  },
  {
   "cell_type": "markdown",
   "metadata": {},
   "source": [
    "### Challenge 4: String Compressor\n",
    "Implement a method to perform basic string compression using the counts of repeated characters. (This is called run-length encoding.) For example, the string \"aabcccccaaa\" would become a2b1c5a3. If the “compressed” string would not become smaller than the original string, your method should return the original string. You can assume the string has only uppercase and lowercase letters (a–z). Specify whether your solution is case sensitive or case insensitive and what you would need to change to make it the other. Afterward, write a brief explanation walking through your code's logic in markdown."
   ]
  },
  {
   "cell_type": "code",
   "execution_count": 28,
   "metadata": {},
   "outputs": [
    {
     "name": "stdout",
     "output_type": "stream",
     "text": [
      "abcdefg\n"
     ]
    }
   ],
   "source": [
    "def stringCompression(ogString):\n",
    "    compressedString = ''\n",
    "    currentRunCharacter = ''\n",
    "    runLength = 0\n",
    "    \n",
    "    for a in range(len(ogString)):\n",
    "        if a == 0:\n",
    "            currentRunCharacter = ogString[a]\n",
    "            runLength = 1\n",
    "        else:\n",
    "            currentCharacter =  ogString[a]\n",
    "            if currentCharacter == currentRunCharacter:\n",
    "                runLength += 1\n",
    "            else:\n",
    "                compressedString += currentRunCharacter +str(runLength)\n",
    "                currentRunCharacter = currentCharacter\n",
    "                runLength = 1\n",
    "    compressedString += currentRunCharacter + str(runLength)\n",
    "    if len(compressedString) > len(ogString):\n",
    "        print(ogString)\n",
    "    else:\n",
    "        return(compressedString)\n",
    "\n",
    "#test function\n",
    "stringCompression('HHHhheellloooo')\n",
    "stringCompression('abcdefg')"
   ]
  },
  {
   "cell_type": "markdown",
   "metadata": {},
   "source": [
    "This one was tricky, I used a youtube tutorial to work through this one.\n",
    "https://www.youtube.com/watch?v=i2u_Z9mQcOc&ab_channel=CodeHS\n",
    "\n",
    "\n",
    "This function is case sensitive, I would make it case insensitive by adding in a line of code that converts the ogString to all lowercase, using the .lower() python function so that the sting is run through the function and all letters are of the same case and counted together.\n",
    "\n",
    "\n",
    "We created the function to take in a string (ogString) and then created 3 variables, one to track the resulting compressed string being created (compressedString), one to track the character we are compressing within the string (currentRunCharacter) and one to track the length of the run/number of characters in a row (runLength).\n",
    "\n",
    "We then created the for loop to loop through each characters and check, first if we're at the first character, to start the run. Otherwise, if we arent at the first character, check the current character to see if we continue run (e.g. if were on the 3rd character in the string, but the first 5 characters are all the same). If we continue the run, we add one to the counter, because we are still seing more of the same character. Else, if we arent continuing the run, then we have counted all of the same character in that place in the string, so now we add that character and count to our output string (compressedString). Otherwise, reset the new run and start on the next new character.\n",
    "\n",
    "I then added an if else statement towards the end of the function to check if the new string (compressedString) is longer than the input/original string (ogString). If the condition is true, and the new string is longer, then the compressed string is printed. If the condition is false and the original string is longer, the original string is printed."
   ]
  },
  {
   "cell_type": "markdown",
   "metadata": {},
   "source": [
    "### *BONUS* Challenge: FizzBuzz\n",
    "Write a program that prints all of the numbers from 1 to 100. For multiples of 3, instead of the number, print \"Fizz;\" for multiples of 5, print \"Buzz.\" For numbers that are multiples of both 3 and 5, print \"FizzBuzz.\" Afterward, write a brief explanation walking through your code's logic in markdown."
   ]
  },
  {
   "cell_type": "code",
   "execution_count": 1,
   "metadata": {},
   "outputs": [
    {
     "name": "stdout",
     "output_type": "stream",
     "text": [
      "1\n",
      "2\n",
      "Fizz\n",
      "4\n",
      "Buzz\n",
      "Fizz\n",
      "7\n",
      "8\n",
      "Fizz\n",
      "Buzz\n",
      "11\n",
      "Fizz\n",
      "13\n",
      "14\n",
      "FizzBuzz\n",
      "16\n",
      "17\n",
      "Fizz\n",
      "19\n",
      "Buzz\n",
      "Fizz\n",
      "22\n",
      "23\n",
      "Fizz\n",
      "Buzz\n",
      "26\n",
      "Fizz\n",
      "28\n",
      "29\n",
      "FizzBuzz\n",
      "31\n",
      "32\n",
      "Fizz\n",
      "34\n",
      "Buzz\n",
      "Fizz\n",
      "37\n",
      "38\n",
      "Fizz\n",
      "Buzz\n",
      "41\n",
      "Fizz\n",
      "43\n",
      "44\n",
      "FizzBuzz\n",
      "46\n",
      "47\n",
      "Fizz\n",
      "49\n",
      "Buzz\n",
      "Fizz\n",
      "52\n",
      "53\n",
      "Fizz\n",
      "Buzz\n",
      "56\n",
      "Fizz\n",
      "58\n",
      "59\n",
      "FizzBuzz\n",
      "61\n",
      "62\n",
      "Fizz\n",
      "64\n",
      "Buzz\n",
      "Fizz\n",
      "67\n",
      "68\n",
      "Fizz\n",
      "Buzz\n",
      "71\n",
      "Fizz\n",
      "73\n",
      "74\n",
      "FizzBuzz\n",
      "76\n",
      "77\n",
      "Fizz\n",
      "79\n",
      "Buzz\n",
      "Fizz\n",
      "82\n",
      "83\n",
      "Fizz\n",
      "Buzz\n",
      "86\n",
      "Fizz\n",
      "88\n",
      "89\n",
      "FizzBuzz\n",
      "91\n",
      "92\n",
      "Fizz\n",
      "94\n",
      "Buzz\n",
      "Fizz\n",
      "97\n",
      "98\n",
      "Fizz\n",
      "Buzz\n"
     ]
    }
   ],
   "source": [
    "def fizzbuzz():\n",
    "    for number in range(1, 101):\n",
    "        if number % 3 == 0 and number % 5 == 0:\n",
    "            print('FizzBuzz')\n",
    "        elif number % 3 == 0:\n",
    "            print('Fizz')\n",
    "        elif number % 5 == 0:\n",
    "            print('Buzz')\n",
    "        else:\n",
    "            print(number)\n",
    "\n",
    "fizzbuzz()"
   ]
  },
  {
   "cell_type": "markdown",
   "metadata": {},
   "source": [
    "I created a function that iterated through a range between 1 and 100, that will print 'FizzBuzz' if current number is divisible by both 3 AND 5. If both of these conditions are not simultaneously met, the function then checks if the current number is divisible by 3, if yes, 'Fizz' is printed, if not, the for loop continues to check if the number is divisible by 5. If this condition is true, the function prints 'Buzz', if not, the loop continues and just prints the number.\n",
    "\n",
    "I then called the function to have it run."
   ]
  }
 ],
 "metadata": {
  "anaconda-cloud": {},
  "kernelspec": {
   "display_name": "Python 3",
   "language": "python",
   "name": "python3"
  },
  "language_info": {
   "codemirror_mode": {
    "name": "ipython",
    "version": 3
   },
   "file_extension": ".py",
   "mimetype": "text/x-python",
   "name": "python",
   "nbconvert_exporter": "python",
   "pygments_lexer": "ipython3",
   "version": "3.8.8"
  }
 },
 "nbformat": 4,
 "nbformat_minor": 2
}
